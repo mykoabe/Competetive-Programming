{
 "cells": [
  {
   "cell_type": "code",
   "execution_count": null,
   "metadata": {},
   "outputs": [],
   "source": [
    "#used to find ordering in order dependency graph\n",
    "#implement topologicalsortutil, topologicalsort and addedge\n",
    "\n",
    "'''\n",
    "step1: maitain a stack save ordering\n",
    "step2: initialize visited as [false]*self.V as all nodes are not yet visited\n",
    "step3: iterate over all vertices and if not visited run topologicalsortutil\n",
    "step4: return result stack\n",
    "\n",
    "'''\n",
    "\n",
    "from collections import defaultdict\n",
    "\n",
    "class Graph:\n",
    "\n",
    "    def __init__(self, vertices):\n",
    "        self.graph = defaultdict(list)\n",
    "        self.V = vertices\n",
    "   \n",
    "    #building the graph\n",
    "    def addEdge(self, u, v):\n",
    "        self.graph[u].append(v)\n",
    "    \n",
    "\n",
    "\n",
    "\n",
    "    \n",
    "\n",
    "    \n",
    "\n",
    "\n",
    "\n"
   ]
  }
 ],
 "metadata": {
  "language_info": {
   "name": "python"
  },
  "orig_nbformat": 4
 },
 "nbformat": 4,
 "nbformat_minor": 2
}
