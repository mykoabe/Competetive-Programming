{
 "cells": [
  {
   "cell_type": "markdown",
   "metadata": {},
   "source": [
    "we can optimize using the two methods \n",
    "optimize using path compression and the union by rank(is is also called the weighting)"
   ]
  }
 ],
 "metadata": {
  "language_info": {
   "name": "python"
  },
  "orig_nbformat": 4
 },
 "nbformat": 4,
 "nbformat_minor": 2
}
