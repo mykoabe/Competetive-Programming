{
 "cells": [
  {
   "cell_type": "code",
   "execution_count": null,
   "metadata": {},
   "outputs": [],
   "source": [
    "# main purpose is check if something exists\n",
    "# inorder, postorder, preorder traversal\n",
    "# dfs iterative verision\n",
    "def dfs_iteration(G,s):\n",
    "    Q = [] \n",
    "    S = set()\n",
    "    Q.append(s)\n",
    "    while Q:\n",
    "        u = Q.pop()\n",
    "        if u in S:\n",
    "            continue\n",
    "        S.add(u)\n",
    "        Q.extend(G[u])\n",
    "        yield u\n",
    "\n"
   ]
  }
 ],
 "metadata": {
  "language_info": {
   "name": "python"
  },
  "orig_nbformat": 4
 },
 "nbformat": 4,
 "nbformat_minor": 2
}
