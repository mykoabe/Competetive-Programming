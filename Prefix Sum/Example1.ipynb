{
 "cells": [
  {
   "cell_type": "code",
   "execution_count": 5,
   "metadata": {},
   "outputs": [
    {
     "data": {
      "text/plain": [
       "[1, 3, 6, 10, 15, 20, 0]"
      ]
     },
     "execution_count": 5,
     "metadata": {},
     "output_type": "execute_result"
    }
   ],
   "source": [
    "def calculatePrefix(arr):\n",
    "    \n",
    "    prefixSum = [0 for i in range(len(arr))]\n",
    "    prefixSum[0] = arr[0]\n",
    "    for i in range(1, len(arr)):\n",
    "        prefixSum[i] = prefixSum[i-1] + arr[i]\n",
    "    return prefixSum\n",
    "    \n",
    "calculatePrefix([1,2,3,4,5,5])"
   ]
  },
  {
   "cell_type": "code",
   "execution_count": 15,
   "metadata": {},
   "outputs": [
    {
     "data": {
      "text/plain": [
       "[4, 7, 11]"
      ]
     },
     "execution_count": 15,
     "metadata": {},
     "output_type": "execute_result"
    }
   ],
   "source": [
    "def examples():\n",
    "    arr = [1,2,2,3,4,5,6,7]\n",
    "    prefixSum = [0 for i in range(len(arr))]\n",
    "    prefixSum[0] = arr[0]\n",
    "    for i in range(1, len(arr)):\n",
    "        prefixSum[i] = prefixSum[i-1] + arr[i]\n",
    "    steps = [[1,2], [3,4], [5,6]]\n",
    "    result = []\n",
    "    for i in range(len(steps)):\n",
    "        l = steps[i][0]\n",
    "        r = steps[i][1]\n",
    "        solution = prefixSum[r] - prefixSum[l-1]\n",
    "        result.append(solution)\n",
    "    return result\n",
    "examples()"
   ]
  },
  {
   "cell_type": "code",
   "execution_count": 17,
   "metadata": {},
   "outputs": [
    {
     "data": {
      "text/plain": [
       "2"
      ]
     },
     "execution_count": 17,
     "metadata": {},
     "output_type": "execute_result"
    }
   ],
   "source": [
    "def equilibrium(arr):\n",
    "    for i in range(len(arr)):\n",
    "        rightSum = 0\n",
    "        leftSum = 0\n",
    "        for j in range(i):\n",
    "            leftSum += arr[j]\n",
    "        for j in range(i+1, len(arr)):\n",
    "            rightSum += arr[j]\n",
    "        if leftSum == rightSum:\n",
    "            return i\n",
    "    return -1\n",
    "equilibrium([1,2,3,4,-1])\n",
    "# but the time complexity is as shown it is O(n^2)\n",
    "# lets find some optimized solution \n",
    "            "
   ]
  },
  {
   "cell_type": "code",
   "execution_count": 22,
   "metadata": {},
   "outputs": [
    {
     "data": {
      "text/plain": [
       "2"
      ]
     },
     "execution_count": 22,
     "metadata": {},
     "output_type": "execute_result"
    }
   ],
   "source": [
    "#second is find the total sum then calculate the left sum\n",
    "def equilibrium2(arr):\n",
    "    totalSum = sum(arr)\n",
    "    leftSum = 0\n",
    "    for i, num in enumerate(arr):\n",
    "        totalSum -= num\n",
    "        if totalSum == leftSum:\n",
    "            return i\n",
    "        leftSum += num\n",
    "    return -1\n",
    "equilibrium2([1,2,3,4,-1])\n",
    "#it has the space complexity of O(n)"
   ]
  },
  {
   "cell_type": "code",
   "execution_count": 23,
   "metadata": {},
   "outputs": [
    {
     "data": {
      "text/plain": [
       "2"
      ]
     },
     "execution_count": 23,
     "metadata": {},
     "output_type": "execute_result"
    }
   ],
   "source": [
    "#uusing the prefix sum we can implement like this\n",
    "def equilibrium3(arr):\n",
    "    rightSum = []\n",
    "    leftSum = []  \n",
    "    for i in range(len(arr)):\n",
    "        if i:\n",
    "            leftSum.append(leftSum[i-1] + arr[i])\n",
    "            rightSum.append(rightSum[i-1] + arr[len(arr) - 1 - i])\n",
    "        else:\n",
    "            leftSum.append(arr[i])\n",
    "            rightSum.append(arr[len(arr) - 1])\n",
    "    for i in range(len(arr)):\n",
    "        if leftSum[i] == rightSum[len(arr) - 1 - i]:\n",
    "            return i\n",
    "    return -1\n",
    "equilibrium3([1,2,3,4,-1])\n",
    "\n",
    "#time and space complexity is O(n)\n",
    "            \n",
    "            "
   ]
  }
 ],
 "metadata": {
  "interpreter": {
   "hash": "a12d694c3ccac42055183a0ad11e659c6a2db5c6555ad2c8919d5814fd4e404f"
  },
  "kernelspec": {
   "display_name": "Python 3.9.7 64-bit",
   "language": "python",
   "name": "python3"
  },
  "language_info": {
   "codemirror_mode": {
    "name": "ipython",
    "version": 3
   },
   "file_extension": ".py",
   "mimetype": "text/x-python",
   "name": "python",
   "nbconvert_exporter": "python",
   "pygments_lexer": "ipython3",
   "version": "3.9.7"
  },
  "orig_nbformat": 4
 },
 "nbformat": 4,
 "nbformat_minor": 2
}
